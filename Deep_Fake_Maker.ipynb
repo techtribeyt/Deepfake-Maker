{
  "cells": [
    {
      "cell_type": "markdown",
      "source": [
        "<a href=\"https://githubtocolab.com/techtribeyt/Deepfake-Maker/edit/main/Deep_Fake_Maker.ipynb\" target=\"_parent\"><img src=\"https://colab.research.google.com/assets/colab-badge.svg\" alt=\"Open in Colab\"/></a>\n"
      ],
      "metadata": {
        "id": "MMKVGOd_OXe7"
      }
    },
    {
      "cell_type": "markdown",
      "metadata": {
        "id": "cdO_RxQZLahB"
      },
      "source": [
        "# Demo for paper \"First Order Motion Model for Image Animation\""
      ]
    },
    {
      "cell_type": "markdown",
      "source": [
        "This notebook has been modified in order to enable users to specify a video and image in one function call and create a deepfake that gets automatically saved to your Google Drive. Some notes: your video and image have to be in a folder called \"deepfake\" in your Google Drive. The video and image have to be square shape (will be resized automatically). Also, make sure these files: /content/gdrive/My Drive/deepfake/vox-256.yaml (available on my GitHub), and \n",
        "                           /content/gdrive/My Drive/deepfake/vox-cpk.pth.tar (available [here](https://drive.google.com/drive/folders/1kZ1gCnpfU0BnpdU47pLM_TQ6RypDDqgw)) exist in the correct location (deepfake folder).\n",
        "\n",
        "At this point, your Google Drive folder called \"deepfake\" should contain any images and videos you want to use, the file \"vox-256.yaml\" and the file \"vox-cpk.pth.tar.\"\n",
        "\n",
        "Run all the cells in this Notebook. In the last cell, follow the instructions to make your own calls to the run function. If all arguments are correct, you will see the appropriate deepfake in the deepfake folder in your Drive shortly. To automate this, just run the \"run\" function multiple times in the same cell, and run the whole cell. Then, you can step away and have multiple deepfakes created while you are away. Also, I recommend using GPU runtime since it will speed up this process."
      ],
      "metadata": {
        "id": "_-ruYeqIIfgZ"
      }
    },
    {
      "cell_type": "markdown",
      "metadata": {
        "id": "GCDNKsEGLtR6"
      },
      "source": [
        "**Clone repository**"
      ]
    },
    {
      "cell_type": "code",
      "execution_count": null,
      "metadata": {
        "colab": {
          "base_uri": "https://localhost:8080/"
        },
        "id": "UCMFMJV7K-ag",
        "outputId": "9ffa0e6e-50f3-4ecf-ccc1-1c5d8e1c04ec"
      },
      "outputs": [
        {
          "output_type": "stream",
          "name": "stdout",
          "text": [
            "Cloning into 'first-order-model'...\n",
            "remote: Enumerating objects: 299, done.\u001b[K\n",
            "remote: Counting objects: 100% (6/6), done.\u001b[K\n",
            "remote: Compressing objects: 100% (5/5), done.\u001b[K\n",
            "remote: Total 299 (delta 2), reused 4 (delta 1), pack-reused 293\u001b[K\n",
            "Receiving objects: 100% (299/299), 72.15 MiB | 25.61 MiB/s, done.\n",
            "Resolving deltas: 100% (153/153), done.\n"
          ]
        }
      ],
      "source": [
        "!git clone https://github.com/AliaksandrSiarohin/first-order-model"
      ]
    },
    {
      "cell_type": "code",
      "execution_count": null,
      "metadata": {
        "colab": {
          "base_uri": "https://localhost:8080/"
        },
        "id": "PBp6l_4bBYUL",
        "outputId": "d60a6fee-5a67-4f68-c0da-6a7a7f84a2dc"
      },
      "outputs": [
        {
          "output_type": "stream",
          "name": "stdout",
          "text": [
            "/content/first-order-model\n"
          ]
        }
      ],
      "source": [
        "cd first-order-model"
      ]
    },
    {
      "cell_type": "markdown",
      "metadata": {
        "id": "IcMX7ueZO0Oa"
      },
      "source": [
        "**Mount your Google drive folder on Colab**"
      ]
    },
    {
      "cell_type": "code",
      "execution_count": null,
      "metadata": {
        "colab": {
          "base_uri": "https://localhost:8080/"
        },
        "id": "tDbMA8R9OuUo",
        "outputId": "7af4d118-8770-44d8-b11e-da212c56bfe1"
      },
      "outputs": [
        {
          "output_type": "stream",
          "name": "stdout",
          "text": [
            "Mounted at /content/gdrive\n"
          ]
        }
      ],
      "source": [
        "from google.colab import drive\n",
        "drive.mount('/content/gdrive')"
      ]
    },
    {
      "cell_type": "markdown",
      "metadata": {
        "id": "rW-ipQXPOWUo"
      },
      "source": [
        "**Load driving video and source image**"
      ]
    },
    {
      "cell_type": "code",
      "execution_count": null,
      "metadata": {
        "id": "Oxi6-riLOgnm"
      },
      "outputs": [],
      "source": [
        "import imageio\n",
        "import numpy as np\n",
        "import matplotlib.pyplot as plt\n",
        "import matplotlib.animation as animation\n",
        "from skimage.transform import resize\n",
        "from IPython.display import HTML\n",
        "import warnings\n",
        "warnings.filterwarnings(\"ignore\")\n",
        "from demo import make_animation\n",
        "from skimage import img_as_ubyte\n",
        "\n",
        "def run(vid, img, pref):\n",
        "  # Change path to your liking or put all of your assets in folder called \"deepfake\"\n",
        "  source_image = imageio.imread(f'/content/gdrive/My Drive/deepfake/{img}')\n",
        "  reader = imageio.get_reader(f'/content/gdrive/My Drive/deepfake/{vid}.mp4')\n",
        "\n",
        "  image_size = 256\n",
        "  #Resize image and video to 256x256\n",
        "\n",
        "  source_image = resize(source_image, (image_size, image_size))[..., :3]\n",
        "\n",
        "  fps = reader.get_meta_data()['fps']\n",
        "  driving_video = []\n",
        "  try:\n",
        "      for im in reader:\n",
        "          driving_video.append(im)\n",
        "  except RuntimeError:\n",
        "      pass\n",
        "  reader.close()\n",
        "\n",
        "  driving_video = [resize(frame, (image_size, image_size))[..., :3] for frame in driving_video]\n",
        "  predictions = make_animation(source_image, driving_video, generator, kp_detector, relative=True)\n",
        "\n",
        "  #save resulting video\n",
        "  imageio.mimsave(f'/content/gdrive/My Drive/deepfake/{vid}_df_{pref}.mp4', [img_as_ubyte(frame) for frame in predictions], fps=fps)\n",
        "\n",
        "    "
      ]
    },
    {
      "cell_type": "markdown",
      "metadata": {
        "id": "xjM7ubVfWrwT"
      },
      "source": [
        "**Create a model and load checkpoints**"
      ]
    },
    {
      "cell_type": "code",
      "execution_count": null,
      "metadata": {
        "id": "3FQiXqQPWt5B"
      },
      "outputs": [],
      "source": [
        "# download these files from the Github and put them into the folder\n",
        "from demo import load_checkpoints\n",
        "generator, kp_detector = load_checkpoints(config_path='/content/gdrive/My Drive/deepfake/vox-256.yaml', \n",
        "                            checkpoint_path='/content/gdrive/My Drive/deepfake/vox-cpk.pth.tar')"
      ]
    },
    {
      "cell_type": "markdown",
      "metadata": {
        "id": "fdFdasHEj3t7"
      },
      "source": [
        "**Perform image animation**"
      ]
    },
    {
      "cell_type": "code",
      "execution_count": 1,
      "metadata": {
        "id": "SB12II11kF4c"
      },
      "outputs": [],
      "source": [
        "# Run like this:\n",
        "# run(\"VIDEO_FILE_NAME (without extension)\", \"SQUARE_IMAGE_NAME.jpg\", \"PREFIX TO ADD TO FILENAME\")\n",
        "# Ex: run(\"driving_video\", \"elon_musk_squared.jpg\", \"deepfake\")"
      ]
    }
  ],
  "metadata": {
    "accelerator": "GPU",
    "colab": {
      "collapsed_sections": [],
      "name": "Deep Fake Maker",
      "provenance": []
    },
    "kernelspec": {
      "display_name": "Python 3",
      "name": "python3"
    }
  },
  "nbformat": 4,
  "nbformat_minor": 0
}